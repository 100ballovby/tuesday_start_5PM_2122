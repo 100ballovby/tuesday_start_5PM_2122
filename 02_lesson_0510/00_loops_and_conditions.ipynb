{
 "cells": [
  {
   "cell_type": "markdown",
   "metadata": {
    "collapsed": true,
    "pycharm": {
     "is_executing": true
    }
   },
   "source": [
    "## Циклы и условия\n"
   ]
  },
  {
   "cell_type": "code",
   "execution_count": 1,
   "metadata": {},
   "outputs": [
    {
     "name": "stdout",
     "output_type": "stream",
     "text": [
      "9\n",
      "8\n",
      "7\n",
      "6\n",
      "5\n",
      "4\n",
      "3\n",
      "2\n",
      "1\n",
      "0\n"
     ]
    }
   ],
   "source": [
    "x = 10\n",
    "while True:\n",
    "    x -= 1\n",
    "    if x < 0:\n",
    "        break\n",
    "    print(x)"
   ]
  },
  {
   "cell_type": "markdown",
   "metadata": {},
   "source": [
    "<p><code>-=</code> - это присваивание с уменьшением или декрементация. <code>x = x - 1</code> - уменьшить переменную и сохранить новое значение.</p>"
   ]
  },
  {
   "cell_type": "code",
   "execution_count": 4,
   "metadata": {},
   "outputs": [
    {
     "name": "stdout",
     "output_type": "stream",
     "text": [
      "3\n",
      "2\n",
      "10\n"
     ]
    }
   ],
   "source": [
    "number = 3\n",
    "print(number)\n",
    "number -= 1\n",
    "print(number)\n",
    "\n",
    "number *= 5\n",
    "print(number)"
   ]
  },
  {
   "cell_type": "markdown",
   "metadata": {},
   "source": [
    "## Отступы\n",
    "\n",
    "<p>Отступы нужны для того, чтобы показать, что инструкция принадлежит блоку.</p>\n",
    "\n",
    "<pre><code>\n",
    "while условие_работы:\n",
    "--->инструкция_1\n",
    "--->инструкция_2\n",
    "\n",
    "инструкция_1а # к циклу не относится\n",
    "</code></pre>\n",
    "\n",
    "## Циклы\n",
    "\n",
    "<ol>\n",
    "    <li>Условные - он работает, пока исполняется какое-то условие, записанное в его объявлении.\n",
    "        <ol type='a'>\n",
    "            <li>С предусловием - цикл, который сначала спрашивает, а потом делает.</li>\n",
    "            <li>С постусловие - цикл, который сначала делает, а потом спрашивает.</li>\n",
    "        </ol>\n",
    "    </li>\n",
    "    <li>Счетный (с управляющей переменной)</li>\n",
    "</ol>"
   ]
  },
  {
   "cell_type": "code",
   "execution_count": 5,
   "metadata": {},
   "outputs": [
    {
     "name": "stdout",
     "output_type": "stream",
     "text": [
      "9\n",
      "8\n",
      "7\n",
      "6\n",
      "5\n",
      "4\n",
      "3\n",
      "2\n",
      "1\n",
      "0\n"
     ]
    }
   ],
   "source": [
    "x = 10  # создается переменная\n",
    "while True:  # объявление цикла\n",
    "    x -= 1  # переменная уменьшается на единицу\n",
    "    if x < 0:  # стал ли x < 0\n",
    "        break  # выйти из цикла\n",
    "    print(x)  # вывести x "
   ]
  },
  {
   "cell_type": "markdown",
   "metadata": {},
   "source": [
    "<p>Код плохой, потому что внутри условного цикла не должно быть условий выхода из цикла. Их можно указать при его объявлении: </p>"
   ]
  },
  {
   "cell_type": "code",
   "execution_count": 7,
   "metadata": {},
   "outputs": [
    {
     "name": "stdout",
     "output_type": "stream",
     "text": [
      "9\n",
      "8\n",
      "7\n",
      "6\n",
      "5\n",
      "4\n",
      "3\n",
      "2\n",
      "1\n",
      "0\n"
     ]
    }
   ],
   "source": [
    "x = 10  # создается переменная\n",
    "while x > 0:  # пока переменная больше нуля\n",
    "    x -= 1  # уменьшать ее на 1\n",
    "    print(x)  # и выводить"
   ]
  },
  {
   "cell_type": "markdown",
   "metadata": {},
   "source": [
    "## Счетный цикл for\n",
    "\n",
    "<p>Это цикл, который знает количество повторений, которые ему необходимо совершить.</p>\n",
    "\n",
    "<p>Для работы счетному циклу необходима специальный генератор <code>range(start, stop, step)</code>. Этот генератор создает арифметическую последовательность от <code>start</code> ДО <code>stop</code> с шагом <code>step</code>.</p>"
   ]
  },
  {
   "cell_type": "code",
   "execution_count": 12,
   "metadata": {},
   "outputs": [
    {
     "name": "stdout",
     "output_type": "stream",
     "text": [
      "Переменная i = 1;\n",
      "Переменная i = 2;\n",
      "Переменная i = 3;\n",
      "Переменная i = 4;\n",
      "Переменная i = 5;\n"
     ]
    }
   ],
   "source": [
    "for i in range(1, 6, 1):\n",
    "    print(f'Переменная i = {i};')"
   ]
  },
  {
   "cell_type": "markdown",
   "metadata": {},
   "source": [
    "<p>Пишем цикл <code>while</code> циклом <code>for</code>.</p>"
   ]
  },
  {
   "cell_type": "code",
   "execution_count": 14,
   "metadata": {},
   "outputs": [
    {
     "name": "stdout",
     "output_type": "stream",
     "text": [
      "9\n",
      "8\n",
      "7\n",
      "6\n",
      "5\n",
      "4\n",
      "3\n",
      "2\n",
      "1\n",
      "0\n"
     ]
    }
   ],
   "source": [
    "for x in range(9, -1, -1):\n",
    "    print(x)"
   ]
  },
  {
   "cell_type": "markdown",
   "metadata": {},
   "source": [
    "<pre>С++:\n",
    "<code>for (int i = 9, i > 0, i--) {\n",
    "    cout << i;\n",
    "}</code></pre>"
   ]
  },
  {
   "cell_type": "code",
   "execution_count": null,
   "metadata": {},
   "outputs": [],
   "source": []
  }
 ],
 "metadata": {
  "kernelspec": {
   "display_name": "Python 3 (ipykernel)",
   "language": "python",
   "name": "python3"
  },
  "language_info": {
   "codemirror_mode": {
    "name": "ipython",
    "version": 3
   },
   "file_extension": ".py",
   "mimetype": "text/x-python",
   "name": "python",
   "nbconvert_exporter": "python",
   "pygments_lexer": "ipython3",
   "version": "3.7.7"
  }
 },
 "nbformat": 4,
 "nbformat_minor": 1
}