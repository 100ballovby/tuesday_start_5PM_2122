{
 "cells": [
  {
   "cell_type": "markdown",
   "metadata": {
    "collapsed": true
   },
   "source": [
    "# Классические алгоритмы\n",
    "## Линейный поиск\n",
    "\n",
    "<p>Просмотреть каждый элемент коллекции. Сравнить каждый элемент с искомым значением. Если элемент совпали, остановить поиск и вернуть порядковый номер элемента в коллекции.</p>\n",
    "\n",
    "### Реализация в Python\n",
    "\n",
    "<p>Для начала нам понадобится список чисел. Важно учитывать, что алгоритм линейного поиска не требует от вас сортировки списка чисел.</p>"
   ]
  },
  {
   "cell_type": "code",
   "execution_count": 1,
   "metadata": {},
   "outputs": [],
   "source": [
    "raw_list = [-89, 35, 62, 13, 6, 7, 9, 25, 41]"
   ]
  },
  {
   "cell_type": "markdown",
   "metadata": {},
   "source": [
    "<p>Мне нужно будет определить искомое значение. То есть создать переменную с числом, которое я буду искать в списке чисел.<p>"
   ]
  },
  {
   "cell_type": "code",
   "execution_count": 2,
   "metadata": {},
   "outputs": [
    {
     "name": "stdout",
     "output_type": "stream",
     "text": [
      "Какое число будем искать? 9\n"
     ]
    }
   ],
   "source": [
    "key = int(input('Какое число будем искать? '))"
   ]
  },
  {
   "cell_type": "markdown",
   "metadata": {},
   "source": [
    "<p>Мне необходимо просмотреть каждый элемент. Для этого я буду использовать цикл <code>for</code>, количество повторений которого будет равно длине моего списка.</p>"
   ]
  },
  {
   "cell_type": "code",
   "execution_count": 3,
   "metadata": {},
   "outputs": [
    {
     "name": "stdout",
     "output_type": "stream",
     "text": [
      "Нашел! Индекс:  6\n"
     ]
    }
   ],
   "source": [
    "for i in range(len(raw_list)):\n",
    "    if key == raw_list[i]:\n",
    "        print('Нашел! Индекс: ', i)\n",
    "        break  # поиск должен остановиться, если я нашел число"
   ]
  },
  {
   "cell_type": "markdown",
   "metadata": {},
   "source": [
    "<p>Итоговый код программы будет выглядеть так:</p>"
   ]
  },
  {
   "cell_type": "code",
   "execution_count": 4,
   "metadata": {},
   "outputs": [
    {
     "name": "stdout",
     "output_type": "stream",
     "text": [
      "Какое число будем искать? 35\n",
      "Нашел! Индекс:  1\n"
     ]
    }
   ],
   "source": [
    "raw_list = [-89, 35, 62, 13, 6, 7, 9, 25, 41]\n",
    "\n",
    "key = int(input('Какое число будем искать? '))\n",
    "\n",
    "for i in range(len(raw_list)):\n",
    "    if key == raw_list[i]:\n",
    "        print('Нашел! Индекс: ', i)\n",
    "        break  # поиск должен остановиться, если я нашел число"
   ]
  }
 ],
 "metadata": {
  "kernelspec": {
   "display_name": "Python 3 (ipykernel)",
   "language": "python",
   "name": "python3"
  },
  "language_info": {
   "codemirror_mode": {
    "name": "ipython",
    "version": 3
   },
   "file_extension": ".py",
   "mimetype": "text/x-python",
   "name": "python",
   "nbconvert_exporter": "python",
   "pygments_lexer": "ipython3",
   "version": "3.7.7"
  }
 },
 "nbformat": 4,
 "nbformat_minor": 1
}