{
 "cells": [
  {
   "cell_type": "markdown",
   "metadata": {
    "collapsed": true
   },
   "source": [
    "## Строки\n",
    "\n",
    "<p><b>Строки</b> - любая последовательность символов, <b><u>заключенная в кавычки</u></b>. При этом тип кавычек не имеет значения. Вы можете использовать как <code>''</code>, так и <code>\"\"</code>.</p>\n",
    "\n",
    "<p>Помните, что строка должна начинаться и заканчиваться одним и тем же типом кавычек.</p>\n",
    "\n",
    "<p>Кавычки - это уже строка.</p>"
   ]
  },
  {
   "cell_type": "code",
   "execution_count": 12,
   "metadata": {},
   "outputs": [
    {
     "name": "stdout",
     "output_type": "stream",
     "text": [
      "<class 'str'>\n"
     ]
    }
   ],
   "source": [
    "x = ''\n",
    "\n",
    "print(type(x))  # <class 'str'>"
   ]
  },
  {
   "cell_type": "markdown",
   "metadata": {},
   "source": [
    "<p>Проблема: если внутри вашей строки есть прямая речь или апостроф, строка сломается. Есть фраза <code>Hello, I'm a Python developer!</code></p>"
   ]
  },
  {
   "cell_type": "code",
   "execution_count": 2,
   "metadata": {},
   "outputs": [
    {
     "ename": "SyntaxError",
     "evalue": "invalid syntax (2519651205.py, line 1)",
     "output_type": "error",
     "traceback": [
      "\u001B[0;36m  File \u001B[0;32m\"/var/folders/kg/wys5qw45109bn_kq6647wwzw0000gn/T/ipykernel_9480/2519651205.py\"\u001B[0;36m, line \u001B[0;32m1\u001B[0m\n\u001B[0;31m    print('Hello, I'm a Python developer')\u001B[0m\n\u001B[0m                    ^\u001B[0m\n\u001B[0;31mSyntaxError\u001B[0m\u001B[0;31m:\u001B[0m invalid syntax\n"
     ]
    }
   ],
   "source": [
    "print('Hello, I'm a Python developer')"
   ]
  },
  {
   "cell_type": "markdown",
   "metadata": {},
   "source": [
    "<p>После буквы I стоит апостроф, который выглядит как кавычка. Соответственно, в этом месте строка закончилась, но после стоят символы. Это приводит к ошибке.</p>\n",
    "\n",
    "<p>Есть два выхода:</p>\n",
    "\n",
    "<ol>\n",
    "    <li>Можно использовать другой тип кавычек. Например, обернуть строчку в двойные кавычки. <code>\"Hello, I'm a Python developer\"</code></li>\n",
    "    <li>Можно использовать символ экранирования. <code>\\</code></li>\n",
    "</ol>"
   ]
  },
  {
   "cell_type": "code",
   "execution_count": 7,
   "metadata": {},
   "outputs": [
    {
     "name": "stdout",
     "output_type": "stream",
     "text": [
      "Hello, I'm a Python developer\n",
      "И он сказал: \"Я поел\".\n"
     ]
    }
   ],
   "source": [
    "print(\"Hello, I'm a Python developer\")\n",
    "print('И он сказал: \"Я поел\".')"
   ]
  },
  {
   "cell_type": "code",
   "execution_count": 11,
   "metadata": {},
   "outputs": [
    {
     "name": "stdout",
     "output_type": "stream",
     "text": [
      "Hello, I'm a Python developer\n",
      "И он сказал: \"Я поел\".\n"
     ]
    }
   ],
   "source": [
    "print('Hello, I\\'m a Python developer')\n",
    "print(\"И он сказал: \\\"Я поел\\\".\")"
   ]
  },
  {
   "cell_type": "markdown",
   "metadata": {},
   "source": [
    "<p><code>\\</code> - говорит Python: \"Не читай символ, который находится после меня.\"</p>"
   ]
  },
  {
   "cell_type": "markdown",
   "metadata": {},
   "source": [
    "### Индексация строчек\n",
    "\n",
    "<p>Т.к. строчка - это последовательноость символов, у каждого символа в последовательности есть свой порядковый номер, по которому вы можете к этому символу обратиться и исполнить какую-то операцию. Порядковые номера называются <b>индексами</b>. Индексы начинают считаться с нуля.</p>\n",
    "\n",
    "<pre><code>\n",
    " 0 1 2 3 4\n",
    "'H e l l o'\n",
    "</code></pre>\n",
    "\n",
    "<p>Кавычки не входят в индексацию.</p>"
   ]
  },
  {
   "cell_type": "code",
   "execution_count": 13,
   "metadata": {},
   "outputs": [],
   "source": [
    "phrase = 'Привет! Я разработчик!'"
   ]
  },
  {
   "cell_type": "markdown",
   "metadata": {},
   "source": [
    "<p>Чтобы обратиться к символу по его индексу, нужно: </p>\n",
    "<ul>\n",
    "    <li>Указать имя переменной, которая хранит строку;</li>\n",
    "    <li>поставить после имени <code>[]</code>;</li>\n",
    "    <li>в квадратных скобках указать индекс элемента, который вы хотите получить. Например: я хочу получить <b>четвертую</b> букву в строке - <code>variable_name[<b>3</b>]</code>.</li>\n",
    "</ul>\n"
   ]
  },
  {
   "cell_type": "code",
   "execution_count": 14,
   "metadata": {},
   "outputs": [
    {
     "name": "stdout",
     "output_type": "stream",
     "text": [
      "в\n"
     ]
    }
   ],
   "source": [
    "print(phrase[3])  # в"
   ]
  },
  {
   "cell_type": "markdown",
   "metadata": {},
   "source": [
    "<p>Если вы обратитесь к символу, которой в строке отсутствует, вы получите <code>IndexError</code>.</p>"
   ]
  },
  {
   "cell_type": "code",
   "execution_count": 16,
   "metadata": {},
   "outputs": [
    {
     "ename": "IndexError",
     "evalue": "string index out of range",
     "output_type": "error",
     "traceback": [
      "\u001B[0;31m---------------------------------------------------------------------------\u001B[0m",
      "\u001B[0;31mIndexError\u001B[0m                                Traceback (most recent call last)",
      "\u001B[0;32m/var/folders/kg/wys5qw45109bn_kq6647wwzw0000gn/T/ipykernel_9480/1060517791.py\u001B[0m in \u001B[0;36m<module>\u001B[0;34m\u001B[0m\n\u001B[0;32m----> 1\u001B[0;31m \u001B[0mprint\u001B[0m\u001B[0;34m(\u001B[0m\u001B[0mphrase\u001B[0m\u001B[0;34m[\u001B[0m\u001B[0;36m35\u001B[0m\u001B[0;34m]\u001B[0m\u001B[0;34m)\u001B[0m  \u001B[0;31m# IndexError\u001B[0m\u001B[0;34m\u001B[0m\u001B[0;34m\u001B[0m\u001B[0m\n\u001B[0m",
      "\u001B[0;31mIndexError\u001B[0m: string index out of range"
     ]
    }
   ],
   "source": [
    "print(phrase[35])  # IndexError"
   ]
  },
  {
   "cell_type": "markdown",
   "metadata": {},
   "source": [
    "### Математические операции со строками\n",
    "\n",
    "<p>Со строками вы можете совершать различные математические операции.</p>\n",
    "\n",
    "<p>1. Сложение строк (<i>конкатенация</i>). Вы можете складывать строки, но <b>СТРОКИ МОЖНО СКЛАДЫВАТЬ ТОЛЬКО СО СТРОКАМИ</b>.</p>"
   ]
  },
  {
   "cell_type": "code",
   "execution_count": 20,
   "metadata": {},
   "outputs": [
    {
     "name": "stdout",
     "output_type": "stream",
     "text": [
      "22.06.2005 14:45\n"
     ]
    }
   ],
   "source": [
    "print('22.06.2005' + ' ' + '14:45')"
   ]
  },
  {
   "cell_type": "markdown",
   "metadata": {},
   "source": [
    "<p>Если вы сложите строчку с числом, вы получите ошибку. Потому что число с буквами складывать нельзя.</p>"
   ]
  },
  {
   "cell_type": "code",
   "execution_count": 23,
   "metadata": {},
   "outputs": [
    {
     "ename": "TypeError",
     "evalue": "can only concatenate str (not \"int\") to str",
     "output_type": "error",
     "traceback": [
      "\u001B[0;31m---------------------------------------------------------------------------\u001B[0m",
      "\u001B[0;31mTypeError\u001B[0m                                 Traceback (most recent call last)",
      "\u001B[0;32m/var/folders/kg/wys5qw45109bn_kq6647wwzw0000gn/T/ipykernel_9480/624019259.py\u001B[0m in \u001B[0;36m<module>\u001B[0;34m\u001B[0m\n\u001B[0;32m----> 1\u001B[0;31m \u001B[0mprint\u001B[0m\u001B[0;34m(\u001B[0m\u001B[0;34m'c'\u001B[0m \u001B[0;34m+\u001B[0m \u001B[0;36m4\u001B[0m\u001B[0;34m)\u001B[0m\u001B[0;34m\u001B[0m\u001B[0;34m\u001B[0m\u001B[0m\n\u001B[0m",
      "\u001B[0;31mTypeError\u001B[0m: can only concatenate str (not \"int\") to str"
     ]
    }
   ],
   "source": [
    "print('c' + 4)"
   ]
  },
  {
   "cell_type": "markdown",
   "metadata": {},
   "source": [
    "<p>2. Умножение строк. Вы можете умножать строки, но <b>СТРОКИ МОЖНО УМНОЖАТЬ ТОЛЬКО НА ЧИСЛА</b>.</p>"
   ]
  },
  {
   "cell_type": "code",
   "execution_count": 24,
   "metadata": {},
   "outputs": [
    {
     "name": "stdout",
     "output_type": "stream",
     "text": [
      "aaaaa\n"
     ]
    }
   ],
   "source": [
    "print('a' * 5)"
   ]
  },
  {
   "cell_type": "markdown",
   "metadata": {},
   "source": [
    "<p>Если вы умножите строку на строку, вы получите ошибку.</p>"
   ]
  },
  {
   "cell_type": "code",
   "execution_count": 25,
   "metadata": {},
   "outputs": [
    {
     "ename": "TypeError",
     "evalue": "can't multiply sequence by non-int of type 'str'",
     "output_type": "error",
     "traceback": [
      "\u001B[0;31m---------------------------------------------------------------------------\u001B[0m",
      "\u001B[0;31mTypeError\u001B[0m                                 Traceback (most recent call last)",
      "\u001B[0;32m/var/folders/kg/wys5qw45109bn_kq6647wwzw0000gn/T/ipykernel_9480/1624561108.py\u001B[0m in \u001B[0;36m<module>\u001B[0;34m\u001B[0m\n\u001B[0;32m----> 1\u001B[0;31m \u001B[0mprint\u001B[0m\u001B[0;34m(\u001B[0m\u001B[0;34m'f'\u001B[0m \u001B[0;34m*\u001B[0m \u001B[0;34m'c'\u001B[0m\u001B[0;34m)\u001B[0m\u001B[0;34m\u001B[0m\u001B[0;34m\u001B[0m\u001B[0m\n\u001B[0m",
      "\u001B[0;31mTypeError\u001B[0m: can't multiply sequence by non-int of type 'str'"
     ]
    }
   ],
   "source": [
    "print('f' * 'c')"
   ]
  },
  {
   "cell_type": "markdown",
   "metadata": {},
   "source": [
    "<p>Операции деления и разности со строками невозможны в силу их нелогичности.<p>"
   ]
  },
  {
   "cell_type": "code",
   "execution_count": null,
   "metadata": {},
   "outputs": [],
   "source": []
  }
 ],
 "metadata": {
  "kernelspec": {
   "display_name": "Python 3 (ipykernel)",
   "language": "python",
   "name": "python3"
  },
  "language_info": {
   "codemirror_mode": {
    "name": "ipython",
    "version": 3
   },
   "file_extension": ".py",
   "mimetype": "text/x-python",
   "name": "python",
   "nbconvert_exporter": "python",
   "pygments_lexer": "ipython3",
   "version": "3.7.7"
  }
 },
 "nbformat": 4,
 "nbformat_minor": 1
}