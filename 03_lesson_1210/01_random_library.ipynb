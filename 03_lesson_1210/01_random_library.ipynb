{
 "cells": [
  {
   "cell_type": "markdown",
   "metadata": {
    "collapsed": true
   },
   "source": [
    "## import random\n",
    "\n",
    "<p>Библиотека <code>random</code> нужна для того, чтобы ваша программа научилась работать с псевдослучайными объектами.</p>\n",
    "\n",
    "<p>По-настоящему случайной генерации чего-либо в компьютере не существует. Все считается по математическим формулам.</p>\n",
    "\n",
    "<p>Для работы с библиотекой ее нужно импортировать:</p>"
   ]
  },
  {
   "cell_type": "code",
   "execution_count": 1,
   "metadata": {},
   "outputs": [],
   "source": [
    "import random as r"
   ]
  },
  {
   "cell_type": "markdown",
   "metadata": {},
   "source": [
    "<p>У библиотеки есть набор функций:</p>\n",
    "\n",
    "<ul>\n",
    "    <li><code>randint(a, b)</code> (random integer) - генерирует случайное целое число в диапазоне от <code>a</code> до <code>b</code> включительно;</li>\n",
    "    <li><code>uniform(a, b)</code> - генерирует случайное дробное число в диапазоне от <code>a</code> до <code>b</code>;</li>\n",
    "    <li><code>random()</code> - генерирует случайное дробное число в диапазоне от <code>0.0</code> до <code>1.0</code>;</li>\n",
    "    <li><code>choice(collection)</code> - достает случайный элемент из последовательность <code>collection</code>.</li>\n",
    "</ul>"
   ]
  },
  {
   "cell_type": "code",
   "execution_count": 2,
   "metadata": {},
   "outputs": [
    {
     "name": "stdout",
     "output_type": "stream",
     "text": [
      "98\n"
     ]
    }
   ],
   "source": [
    "print(r.randint(1, 100))"
   ]
  },
  {
   "cell_type": "markdown",
   "metadata": {},
   "source": [
    "<p>Чем б<b>o</b>льший диапазон чисел вы поставите, тем меньше шансов на то, что числа будут повторяться. Есть золотое правило. Если вы хотите получить последовательность разных чисел, умножьте чисел на 10 или на 100 и это будет интервал генерации.</p>\n",
    "\n",
    "<p>Если мне нужно 20 псевдослучайных разных чисел, я буду генерировать их в диапазоне от -200 до 200.</p>"
   ]
  },
  {
   "cell_type": "code",
   "execution_count": 3,
   "metadata": {},
   "outputs": [
    {
     "name": "stdout",
     "output_type": "stream",
     "text": [
      "7.019500916055205\n"
     ]
    }
   ],
   "source": [
    "print(r.uniform(2.5, 10.0))"
   ]
  },
  {
   "cell_type": "code",
   "execution_count": 4,
   "metadata": {},
   "outputs": [
    {
     "name": "stdout",
     "output_type": "stream",
     "text": [
      "0.6287465061249069\n"
     ]
    }
   ],
   "source": [
    "print(r.random())"
   ]
  },
  {
   "cell_type": "code",
   "execution_count": 5,
   "metadata": {},
   "outputs": [
    {
     "name": "stdout",
     "output_type": "stream",
     "text": [
      "!\n"
     ]
    }
   ],
   "source": [
    "print(r.choice('Привет!'))"
   ]
  }
 ],
 "metadata": {
  "kernelspec": {
   "display_name": "Python 3 (ipykernel)",
   "language": "python",
   "name": "python3"
  },
  "language_info": {
   "codemirror_mode": {
    "name": "ipython",
    "version": 3
   },
   "file_extension": ".py",
   "mimetype": "text/x-python",
   "name": "python",
   "nbconvert_exporter": "python",
   "pygments_lexer": "ipython3",
   "version": "3.7.7"
  }
 },
 "nbformat": 4,
 "nbformat_minor": 1
}